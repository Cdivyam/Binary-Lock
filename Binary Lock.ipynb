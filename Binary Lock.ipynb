{
 "cells": [
  {
   "cell_type": "code",
   "execution_count": 1,
   "metadata": {},
   "outputs": [],
   "source": [
    "class DataNode:\n",
    "    # Function to initialize class node\n",
    "    def __init__(self, data):\n",
    "        self.data = data # Assign data\n",
    "        self.right = None # Initialize next data node as null\n",
    "        self.trans = None # Initialize transaction as None\n",
    "        \n",
    "class TransactionNode:\n",
    "    \n",
    "    def __init__(self, name, lock): \n",
    "        self.name = name\n",
    "        self.lock = lock\n",
    "        self.data = None # which data node for transaction to engage\n",
    "        self.prev = None\n",
    "        self.next = None"
   ]
  },
  {
   "cell_type": "code",
   "execution_count": 2,
   "metadata": {},
   "outputs": [],
   "source": [
    "class LinkedList:\n",
    "    # Function to initialize head\n",
    "    def __init__(self):\n",
    "        self.head = None\n",
    "    \n",
    "    def printDataList(self):\n",
    "        temp = self.head\n",
    "        while(temp):\n",
    "            print(temp.data)\n",
    "            temp = temp.right\n",
    "            \n",
    "    def printTransactionList(self):\n",
    "        temp = self.head.trans\n",
    "        print(self.head.data, end = \"->\")\n",
    "        while(temp):\n",
    "            print(temp.name, end = \"|\")\n",
    "            print(temp.lock, end = \"->\")\n",
    "            temp = temp.next"
   ]
  },
  {
   "cell_type": "code",
   "execution_count": 3,
   "metadata": {},
   "outputs": [
    {
     "name": "stdout",
     "output_type": "stream",
     "text": [
      "1\n",
      "2\n",
      "3\n",
      "4\n"
     ]
    }
   ],
   "source": [
    "data_list = LinkedList()\n",
    "\n",
    "data_list.head = DataNode(1)\n",
    "second = DataNode(2)\n",
    "third = DataNode(3)\n",
    "fourth = DataNode(4)\n",
    "\n",
    "data_list.head.right = second\n",
    "second.right = third\n",
    "third.right = fourth\n",
    "\n",
    "data_list.printDataList()"
   ]
  },
  {
   "cell_type": "code",
   "execution_count": 8,
   "metadata": {},
   "outputs": [
    {
     "name": "stdout",
     "output_type": "stream",
     "text": [
      "1->t1|1->"
     ]
    }
   ],
   "source": [
    "trans = LinkedList()\n",
    "name = \"t1\"\n",
    "trans.head = TransactionNode(name, 1)\n",
    "\n",
    "trans.head.data = data_list.head\n",
    "data_list.head.trans = trans.head\n",
    "\n",
    "data_list.printTransactionList()"
   ]
  },
  {
   "cell_type": "code",
   "execution_count": 6,
   "metadata": {},
   "outputs": [
    {
     "name": "stdout",
     "output_type": "stream",
     "text": [
      "t1\n"
     ]
    }
   ],
   "source": [
    "trans2 = LinkedList()\n",
    "name2 = \"t2\"\n",
    "if data_list.head.trans != None:\n",
    "    trans2.head = TransactionNode(name2, 0)\n",
    "    temp = data_list.head.trans\n",
    "    while(temp.next != None):\n",
    "        temp = temp.next\n",
    "    temp.next = trans2.head\n",
    "    trans2.head.prev = temp\n",
    "else:\n",
    "    trans2.head = TransactionNode(name, 1)\n",
    "    trans2.head.data = data_list.head\n",
    "    data_list.head.trans = trans.head"
   ]
  },
  {
   "cell_type": "code",
   "execution_count": 7,
   "metadata": {},
   "outputs": [
    {
     "name": "stdout",
     "output_type": "stream",
     "text": [
      "1->t1|1->t2|0->"
     ]
    }
   ],
   "source": [
    "data_list.printTransactionList()"
   ]
  },
  {
   "cell_type": "code",
   "execution_count": null,
   "metadata": {},
   "outputs": [],
   "source": []
  }
 ],
 "metadata": {
  "kernelspec": {
   "display_name": "Python 3",
   "language": "python",
   "name": "python3"
  },
  "language_info": {
   "codemirror_mode": {
    "name": "ipython",
    "version": 3
   },
   "file_extension": ".py",
   "mimetype": "text/x-python",
   "name": "python",
   "nbconvert_exporter": "python",
   "pygments_lexer": "ipython3",
   "version": "3.7.3"
  }
 },
 "nbformat": 4,
 "nbformat_minor": 4
}
